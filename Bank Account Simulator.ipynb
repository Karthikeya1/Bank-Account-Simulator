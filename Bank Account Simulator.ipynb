{
 "cells": [
  {
   "cell_type": "markdown",
   "id": "79e7c63b",
   "metadata": {},
   "source": [
    "# Simple Bank Account Simlator"
   ]
  },
  {
   "cell_type": "code",
   "execution_count": 30,
   "id": "dc2a80f4",
   "metadata": {},
   "outputs": [],
   "source": [
    "class BankAccount:\n",
    "    def __init__(self,Acc_Holder_Name,Acc_Number,balance=0):\n",
    "        self.Acc_Holder_Name=Acc_Holder_Name\n",
    "        self.Acc_Number=Acc_Number\n",
    "        self.balance=balance\n",
    "        \n",
    "    def __str__(self):\n",
    "        return f'Account Holder   :  {self.Acc_Holder_Name}\\nAccount Number   :  {self.Acc_Number}\\nAccount Balance  :  Rs.{self.balance}'\n",
    "    \n",
    "    def deposit(self,deposit_amount):\n",
    "        self.balance+=deposit_amount\n",
    "        print(\"Transaction Completed.\\nDeposit Successful.\")\n",
    "    \n",
    "    def withdrawl(self,withdrawl_amount):\n",
    "        if self.balance>=withdrawl_amount:\n",
    "            self.balance-=withdrawl_amount\n",
    "            print(\"Transaction Completed.\\nWithdrawl Successful.\")\n",
    "        else:\n",
    "            print(\"Insufficient Funds.\")\n",
    "            print(\"Withdrawl Failed.\")"
   ]
  },
  {
   "cell_type": "code",
   "execution_count": 31,
   "id": "1a17c948",
   "metadata": {},
   "outputs": [],
   "source": [
    "#Creating a bank account by calling the BankAccount Class\n",
    "Account1=BankAccount(\"Karthikeya\",\"112233445566\",100)"
   ]
  },
  {
   "cell_type": "code",
   "execution_count": 32,
   "id": "139076c7",
   "metadata": {},
   "outputs": [
    {
     "name": "stdout",
     "output_type": "stream",
     "text": [
      "Account Holder   :  Karthikeya\n",
      "Account Number   :  112233445566\n",
      "Account Balance  :  Rs.100\n"
     ]
    }
   ],
   "source": [
    "#Checking the Bank Account Details\n",
    "print(Account1)"
   ]
  },
  {
   "cell_type": "code",
   "execution_count": 33,
   "id": "52463ea0",
   "metadata": {},
   "outputs": [
    {
     "name": "stdout",
     "output_type": "stream",
     "text": [
      "Transaction Completed.\n",
      "Deposit Successful.\n"
     ]
    }
   ],
   "source": [
    "#Depositing the Amount\n",
    "Account1.deposit(300)"
   ]
  },
  {
   "cell_type": "code",
   "execution_count": 34,
   "id": "942f556c",
   "metadata": {},
   "outputs": [
    {
     "name": "stdout",
     "output_type": "stream",
     "text": [
      "Account Holder   :  Karthikeya\n",
      "Account Number   :  112233445566\n",
      "Account Balance  :  Rs.400\n"
     ]
    }
   ],
   "source": [
    "#Checking the Bank Account Details\n",
    "print(Account1)"
   ]
  },
  {
   "cell_type": "code",
   "execution_count": 35,
   "id": "d80f420c",
   "metadata": {},
   "outputs": [
    {
     "name": "stdout",
     "output_type": "stream",
     "text": [
      "Transaction Completed.\n",
      "Withdrawl Successful.\n"
     ]
    }
   ],
   "source": [
    "#WIthdrawing the Amount\n",
    "Account1.withdrawl(200)"
   ]
  },
  {
   "cell_type": "code",
   "execution_count": 36,
   "id": "c8bbfd5d",
   "metadata": {},
   "outputs": [
    {
     "name": "stdout",
     "output_type": "stream",
     "text": [
      "Account Holder   :  Karthikeya\n",
      "Account Number   :  112233445566\n",
      "Account Balance  :  Rs.200\n"
     ]
    }
   ],
   "source": [
    "#Checking the Bank Account Details\n",
    "print(Account1)"
   ]
  },
  {
   "cell_type": "code",
   "execution_count": 37,
   "id": "01c09c86",
   "metadata": {},
   "outputs": [
    {
     "name": "stdout",
     "output_type": "stream",
     "text": [
      "Insufficient Funds.\n",
      "Withdrawl Failed.\n"
     ]
    }
   ],
   "source": [
    "#WIthdrawing the Amount\n",
    "Account1.withdrawl(300)"
   ]
  },
  {
   "cell_type": "code",
   "execution_count": null,
   "id": "b9032745",
   "metadata": {},
   "outputs": [],
   "source": []
  }
 ],
 "metadata": {
  "kernelspec": {
   "display_name": "Python 3 (ipykernel)",
   "language": "python",
   "name": "python3"
  },
  "language_info": {
   "codemirror_mode": {
    "name": "ipython",
    "version": 3
   },
   "file_extension": ".py",
   "mimetype": "text/x-python",
   "name": "python",
   "nbconvert_exporter": "python",
   "pygments_lexer": "ipython3",
   "version": "3.9.13"
  }
 },
 "nbformat": 4,
 "nbformat_minor": 5
}
